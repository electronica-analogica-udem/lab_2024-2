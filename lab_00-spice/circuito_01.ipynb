{
 "cells": [
  {
   "cell_type": "code",
   "execution_count": null,
   "metadata": {},
   "outputs": [],
   "source": [
    "# Librerias necesarias"
   ]
  },
  {
   "cell_type": "markdown",
   "metadata": {},
   "source": [
    "# Analisis de circuitos\n",
    "\n",
    "1. Obtenga el valor del voltaje $v_o$ en el circuito mostrado en la siguiente figura:\n",
    "\n",
    "   ![circuito1](circuito1.png)\n",
    "\n",
    "   Aplicando el analisis de voltajes en nodos tenemos el siguiente circuito:\n",
    "\n",
    "   ![circuito1_analisis](circuito1_analisis.png)\n",
    "\n",
    "   Teniendo en cuenta que $v_1 = 10$ y $v_3 = -20i_\\Delta$ al aplicar KCL en los nodos **1** y **2** tenemos:\n",
    "\n",
    "   $$\n",
    "   \\begin{cases}\n",
    "    i_{\\Delta} = \\frac{10 - v_2}{10} + \\frac{10 - (-20i_\\Delta)}{30} \\\\\n",
    "    \\frac{10 - v_2}{10} = + \\frac{v_2}{40}  + \\frac{v_2 - (-20i_\\Delta)}{20} \n",
    "   \\end{cases}\n",
    "   $$\n",
    "\n",
    "\n",
    "\n",
    "   "
   ]
  },
  {
   "cell_type": "markdown",
   "metadata": {},
   "source": [
    "## Referencias\n",
    "\n",
    "1. Python Programming And Numerical Methods: A Guide For Engineers And Scientists [[link]](https://pythonnumericalmethods.studentorg.berkeley.edu/notebooks/Index.html)\n",
    "2. An Introduction to Python Jupyter Notebooks for College Math Teachers [[link]](https://timothyprojectgig.github.io/JB_Math_Textbook/intro.html)\n",
    "3. Working With Linear Systems in Python With scipy.linalg [[link]](https://realpython.com/python-scipy-linalg/)\n",
    "4. Linear Algebra in Python: Matrix Inverses and Least Squares [[link]](https://realpython.com/python-linear-algebra/)\n",
    "5. Jupyter Guide to Linear Algebra [[link]](https://bvanderlei.github.io/jupyter-guide-to-linear-algebra/intro.html)"
   ]
  }
 ],
 "metadata": {
  "language_info": {
   "name": "python"
  }
 },
 "nbformat": 4,
 "nbformat_minor": 2
}
