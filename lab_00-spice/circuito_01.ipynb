{
 "cells": [
  {
   "cell_type": "markdown",
   "metadata": {},
   "source": [
    "[![Open In Colab](https://colab.research.google.com/assets/colab-badge.svg)](https://colab.research.google.com/github/electronica-analogica-udem/lab_2024-2/blob/main/lab_00-spice/circuito_01.ipynb)"
   ]
  },
  {
   "cell_type": "code",
   "execution_count": 8,
   "metadata": {},
   "outputs": [],
   "source": [
    "# Librerias necesarias\n",
    "import numpy as np"
   ]
  },
  {
   "cell_type": "markdown",
   "metadata": {},
   "source": [
    "# Analisis de circuitos\n",
    "\n",
    "1. Obtenga el valor del voltaje $v_o$ en el circuito mostrado en la siguiente figura:\n",
    "\n",
    "   ![circuito1](circuito1.png)\n",
    "\n",
    "   Aplicando el analisis de voltajes en nodos tenemos el siguiente circuito:\n",
    "\n",
    "   ![circuito1_analisis](circuito1_analisis.png)\n",
    "\n",
    "   Teniendo en cuenta que $v_1 = 10$ y $v_3 = -20i_\\Delta$ al aplicar KCL en los nodos **1** y **2** tenemos:\n",
    "\n",
    "   $$\n",
    "   \\begin{cases}\n",
    "    i_{\\Delta} = \\frac{10 - v_2}{10} + \\frac{10 - (-20i_\\Delta)}{30} \\\\\n",
    "    \\frac{10 - v_2}{10} = + \\frac{v_2}{40}  + \\frac{v_2 - (-20i_\\Delta)}{20} \n",
    "   \\end{cases}\n",
    "   $$\n",
    "\n",
    "   Si se reescribe el sistema de ecuaciones tenemos:\n",
    "\n",
    "    $$\n",
    "   \\begin{cases}\n",
    "    10i_{\\Delta} + 3v_2 = 40 \\\\\n",
    "    40i_{\\Delta} + 7v_2 = 40\n",
    "   \\end{cases}\n",
    "   $$\n",
    "\n",
    "   Este sistema, expresado matricialmente queda:\n",
    "\n",
    "   $$\n",
    "   \\begin{bmatrix}\n",
    "   10 & 3 \\\\\n",
    "   40 & 7 \\\\\n",
    "   \\end{bmatrix}\n",
    "   \\begin{bmatrix}\n",
    "   i_{\\Delta} \\\\\n",
    "   v_2 \\\\\n",
    "   \\end{bmatrix}\n",
    "   =\n",
    "   \\begin{bmatrix}\n",
    "   40 \\\\\n",
    "   40 \\\\\n",
    "   \\end{bmatrix} \n",
    "   $$\n",
    "\n",
    "   Al resolver el sistema tenemos que $v_2 = 24 V$ y $i_{\\Delta} = 16/5 A$. De modo que, la solución al ejercicio es $v_o = v_2 = 24 V$\n",
    "\n",
    "   A continuación, expresando el sistema matricial en la forma $Ax=y$ tenemos:\n",
    "\n",
    "   $$\n",
    "   A = \\begin{bmatrix}\n",
    "   10 & 3 \\\\\n",
    "   40 & 7 \\\\\n",
    "   \\end{bmatrix}\n",
    "   $$ \n",
    "\n",
    "   $$\n",
    "   x = \\begin{bmatrix}\n",
    "   i_{\\Delta} \\\\\n",
    "   v_2 \n",
    "   \\end{bmatrix}\n",
    "   $$ \n",
    "   \n",
    "   $$\n",
    "   x = \\begin{bmatrix}\n",
    "   40 \\\\\n",
    "   40\n",
    "   \\end{bmatrix}\n",
    "   $$ \n",
    "   \n",
    "   Finalmente, resolviendo el sistema en python tenemos:"
   ]
  },
  {
   "cell_type": "code",
   "execution_count": 9,
   "metadata": {},
   "outputs": [
    {
     "name": "stdout",
     "output_type": "stream",
     "text": [
      "i = -3.2\n",
      "v_o = 24.0\n"
     ]
    }
   ],
   "source": [
    "A = np.array([[10, 3], \n",
    "              [40, 7]])\n",
    "y = np.array([40, 40])\n",
    "\n",
    "x = np.linalg.solve(A, y)\n",
    "i = x[0]\n",
    "v_o = x[1]\n",
    "\n",
    "print(f\"i = {i}\")\n",
    "print(f\"v_o = {v_o}\")"
   ]
  },
  {
   "cell_type": "markdown",
   "metadata": {},
   "source": [
    "## Referencias\n",
    "\n",
    "1. Python Programming And Numerical Methods: A Guide For Engineers And Scientists [[link]](https://pythonnumericalmethods.studentorg.berkeley.edu/notebooks/Index.html)\n",
    "2. An Introduction to Python Jupyter Notebooks for College Math Teachers [[link]](https://timothyprojectgig.github.io/JB_Math_Textbook/intro.html)\n",
    "3. Working With Linear Systems in Python With scipy.linalg [[link]](https://realpython.com/python-scipy-linalg/)\n",
    "4. Linear Algebra in Python: Matrix Inverses and Least Squares [[link]](https://realpython.com/python-linear-algebra/)\n",
    "5. Jupyter Guide to Linear Algebra [[link]](https://bvanderlei.github.io/jupyter-guide-to-linear-algebra/intro.html)"
   ]
  }
 ],
 "metadata": {
  "kernelspec": {
   "display_name": "Python 3",
   "language": "python",
   "name": "python3"
  },
  "language_info": {
   "codemirror_mode": {
    "name": "ipython",
    "version": 3
   },
   "file_extension": ".py",
   "mimetype": "text/x-python",
   "name": "python",
   "nbconvert_exporter": "python",
   "pygments_lexer": "ipython3",
   "version": "3.9.13"
  }
 },
 "nbformat": 4,
 "nbformat_minor": 2
}
